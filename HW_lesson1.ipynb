{
 "cells": [
  {
   "cell_type": "markdown",
   "id": "a0e62e94-8764-425c-b6da-6a32a58ed0a6",
   "metadata": {},
   "source": [
    "##  Урок 1. Часть 1. Практическое задание"
   ]
  },
  {
   "cell_type": "markdown",
   "id": "d1cb63bc-b660-4221-a0c4-24af3d8661cb",
   "metadata": {},
   "source": [
    "__1.__ Исследовать на линейную зависимость:\n",
    "\n",
    "$$f_{1}(x)=e^{x}, f_{2}(x)=1, f_{3}(x)=x+1, f_{4}(x)=x-e^{x}.$$"
   ]
  },
  {
   "cell_type": "markdown",
   "id": "44fd4920-9be6-412a-8aab-d1b384970e08",
   "metadata": {},
   "source": [
    "$x-e^{x} = x+1-1-e^{x}$\\\n",
    "Вектора линейно зависимы, так как их можно выразить"
   ]
  },
  {
   "cell_type": "markdown",
   "id": "ab9619c5-5135-412b-be18-0f1c0ecbe377",
   "metadata": {},
   "source": [
    "__2.__ Исследовать на линейную зависимость:\n",
    "$$f_{1}(x)=2, f_{2}(x)=x, f_{3}(x)=x^{2}, f_{4}(x)=(x+1)^{2}$$"
   ]
  },
  {
   "cell_type": "markdown",
   "id": "de5f39ca-e488-4a47-a2f2-6c9e58a81f3a",
   "metadata": {},
   "source": [
    "$f_{4}(x) = x^{2} + 2x + 1$\\\n",
    "$f_{4}(x) = f_{3}(x) + 2f_{2}(x)  + 1/2f_{1}(x)$"
   ]
  },
  {
   "cell_type": "markdown",
   "id": "b2413028-1c5f-47e1-bbff-70030db513c6",
   "metadata": {},
   "source": [
    "Вектора линейно зависимы, так как их можно выразить"
   ]
  },
  {
   "cell_type": "markdown",
   "id": "24a8bd52-ed71-4893-81e6-9f21a86af804",
   "metadata": {},
   "source": [
    "__3.__ Найти координаты вектора $x = (2, 3, 5)\\in \\mathbb{R}^{3}$ в базисе $b_{1}=(0, 0, 10)$, $b_{2}=(2, 0, 0)$, $b_{3}=(0, 1, 0)$."
   ]
  },
  {
   "cell_type": "markdown",
   "id": "666fb09f-78ac-4273-9f92-271cf71295cc",
   "metadata": {},
   "source": [
    "Составим систему\\\n",
    "$2b_{2}=2, b_{3}=3, 10b_{1}=5 =>$\\\n",
    "Найдём корни\\\n",
    "$b_{2}=1, b_{3}=3, b_{1}=1/2$\\\n",
    "$x = 1/2b_{1}+b_{2}+3b_{3}$\\\n",
    "$(1/2, 1, 3)$"
   ]
  },
  {
   "cell_type": "markdown",
   "id": "08d92f2d-19b7-4984-8b2a-f4ead8c00785",
   "metadata": {},
   "source": [
    "__4.__ Найти координаты вектора $3x^{2}-2x+2\\in\\mathbb{R}^{3}[x]$:\n",
    "\n",
    "а) в базисе $1$, $x$, $x^{2}$;\n",
    "\n",
    "б) в базисе $x^{2}$, $x-1$, $1$."
   ]
  },
  {
   "cell_type": "markdown",
   "id": "3875b34f-2b00-42c2-bd90-57dd62779a41",
   "metadata": {},
   "source": [
    "а)\\\n",
    "$2*1-2*x+3*x^{2}$\\\n",
    "$(2, -2, 3)$"
   ]
  },
  {
   "cell_type": "markdown",
   "id": "f472be24-c869-4404-bc0d-57e258d23290",
   "metadata": {},
   "source": [
    "б)\\\n",
    "$3*x^{2}-2*(x-1)+2*1 $\\\n",
    "$3x^{2}-2x+2+2 $\\\n",
    "$(3, -2, 4)$"
   ]
  },
  {
   "cell_type": "markdown",
   "id": "d2291e10-2e63-4bf4-8fdd-18fbaa5326ba",
   "metadata": {},
   "source": [
    "__5.__ Установить, является ли линейным подпространством:\n",
    "\n",
    "а) совокупность всех векторов трехмерного пространства, у которых по крайней мере одна из первых двух координат равна нулю;\n",
    "    \n",
    "б) все векторы, являющиеся линейными комбинациями данных векторов $\\{u_{1}, u_{2}, \\ldots, u_{n}\\}$."
   ]
  },
  {
   "cell_type": "markdown",
   "id": "8c3a2bcf-df31-403c-abd0-6ae52cb26d33",
   "metadata": {},
   "source": [
    "а)\\\n",
    "$(1,0,1)+(0,1,1) => (1,1,2)$\\\n",
    "Условие не выполняются, совокупность не является подпространством"
   ]
  },
  {
   "cell_type": "markdown",
   "id": "14b1c15e-5c29-42e2-9331-f124b4fe7893",
   "metadata": {},
   "source": [
    "б)\\\n",
    "$a=λ_{1}u_{1}+λ_{2}u_{2}+. ..+ λ_{n}u_{n}$\\\n",
    "$b=μ_{1}u_{1}+μ_{2}u_{2}+.. .+μ_{n}u_{n}$\\\n",
    "$a+b=(λ_{1}+μ_{1})u_{1}+(λ_{2}+μ_{2}) u_{2}+. . .(λ_{n}+μ_{n})u_{n}$\\\n",
    "$α ⋅ a=αλ_{1}u_{1}+αλ_{2}u_{2}+... αλ_{n}u_{n}$\\\n",
    "$β ⋅ a=βλ_{1}u_{1}+βλ_{2}u_{2}+... βλ_{n}u_{n}$\\\n",
    "Условие выполняется, совокупность является линейным подпространством"
   ]
  },
  {
   "cell_type": "markdown",
   "id": "8aa6b515-5746-4d00-9935-2ebfd383fd12",
   "metadata": {},
   "source": [
    "## Часть 2. Практическое задание"
   ]
  },
  {
   "cell_type": "code",
   "execution_count": 2,
   "id": "9f8c5aeb-196b-4df0-a530-53292811a71f",
   "metadata": {},
   "outputs": [],
   "source": [
    "import numpy as np\n",
    "from numpy.linalg import norm"
   ]
  },
  {
   "cell_type": "markdown",
   "id": "09a0eaa8-5c2b-4a84-a10f-6ab5baec58d2",
   "metadata": {},
   "source": [
    "__1.__ Найти скалярное произведение векторов $x, y \\in \\mathbb{R}$:<br>\n",
    "а) $x=(0,-3, 6),~y=(-4, 7, 9);$<br>\n",
    "б) $x=(7, -4, 0, 1),~y=(-3, 1, 11, 2).$\n"
   ]
  },
  {
   "cell_type": "code",
   "execution_count": 4,
   "id": "db67b980-d4fb-4447-9811-78a3d6375b64",
   "metadata": {},
   "outputs": [],
   "source": [
    "x = np.array([0, -3, 6])\n",
    "y = np.array([-4, 7, 9])"
   ]
  },
  {
   "cell_type": "code",
   "execution_count": 5,
   "id": "80c8fb6f-49fe-473b-b8bd-36d74541e6ad",
   "metadata": {},
   "outputs": [
    {
     "name": "stdout",
     "output_type": "stream",
     "text": [
      "Скалярное произведение векторов (x, y) = 33\n"
     ]
    }
   ],
   "source": [
    "print(f'Скалярное произведение векторов (x, y) = {np.dot(x, y)}')"
   ]
  },
  {
   "cell_type": "code",
   "execution_count": 6,
   "id": "c04f50d2-7b64-41ff-9ca0-70479246562d",
   "metadata": {},
   "outputs": [],
   "source": [
    "x = np.array([7, -4, 0, 1])\n",
    "y = np.array([-3, 1, 11, 2])"
   ]
  },
  {
   "cell_type": "code",
   "execution_count": 7,
   "id": "9f57cbd7-f45f-4018-9a0c-b7f144af2354",
   "metadata": {},
   "outputs": [
    {
     "name": "stdout",
     "output_type": "stream",
     "text": [
      "Скалярное произведение векторов (x, y) = -23\n"
     ]
    }
   ],
   "source": [
    "print(f'Скалярное произведение векторов (x, y) = {np.dot(x, y)}')"
   ]
  },
  {
   "cell_type": "markdown",
   "id": "10fe1979-51a4-42be-b034-85a9756015ca",
   "metadata": {},
   "source": [
    "__2.__ Найти нормы векторов $(4, 2, 4)$ и $(12, 3, 4)$ и угол между ними."
   ]
  },
  {
   "cell_type": "code",
   "execution_count": 21,
   "id": "07183292-a6ac-4d18-a1fb-4830b6466ef6",
   "metadata": {},
   "outputs": [
    {
     "name": "stdout",
     "output_type": "stream",
     "text": [
      "Нормы векторов x 6.0 и y 13.0\n"
     ]
    }
   ],
   "source": [
    "x = np.array([4, 2, 4])\n",
    "y = np.array([12, 3, 4])\n",
    "print(f'Нормы векторов x {norm(x)} и y {(norm(y))}')"
   ]
  },
  {
   "cell_type": "code",
   "execution_count": 22,
   "id": "649de57c-0cc0-432b-bc47-24e5d8d4d3ad",
   "metadata": {},
   "outputs": [
    {
     "data": {
      "text/plain": [
       "70"
      ]
     },
     "execution_count": 22,
     "metadata": {},
     "output_type": "execute_result"
    }
   ],
   "source": [
    "np.dot(x, y)"
   ]
  },
  {
   "cell_type": "code",
   "execution_count": 24,
   "id": "d1c0b401-0192-4145-87a2-4ea9721b87bd",
   "metadata": {},
   "outputs": [
    {
     "data": {
      "text/plain": [
       "0.8974358974358974"
      ]
     },
     "execution_count": 24,
     "metadata": {},
     "output_type": "execute_result"
    }
   ],
   "source": [
    "# Найдём угол между ними\n",
    "cos_phi = np.dot(x, y) / norm(x) / norm(y)\n",
    "cos_phi"
   ]
  },
  {
   "cell_type": "code",
   "execution_count": 12,
   "id": "15ff91b7-9a7c-4118-820d-5c608129c8b7",
   "metadata": {},
   "outputs": [],
   "source": [
    "import math"
   ]
  },
  {
   "cell_type": "code",
   "execution_count": 26,
   "id": "1307e1c6-b332-4775-89ea-8e22f8af67e5",
   "metadata": {},
   "outputs": [
    {
     "data": {
      "text/plain": [
       "26.176952171666557"
      ]
     },
     "execution_count": 26,
     "metadata": {},
     "output_type": "execute_result"
    }
   ],
   "source": [
    "# Преобразуем в градусы\n",
    "math.acos(cos_phi) * (180/math.pi)"
   ]
  },
  {
   "cell_type": "markdown",
   "id": "ebbf3478-1fb2-4237-98ee-047c43154b0f",
   "metadata": {},
   "source": [
    "__3.__ Будет ли линейное пространство евклидовым, если за скалярное произведение принять:<br>\n",
    "а) произведение длин векторов;<br>\n",
    "б) утроенное обычное скалярное произведение векторов?<br>"
   ]
  },
  {
   "cell_type": "code",
   "execution_count": 28,
   "id": "a83a7326-17eb-4a35-8f06-654a74e97fe6",
   "metadata": {},
   "outputs": [],
   "source": [
    "# a)\n",
    "def vect_len_mul(a, b):\n",
    "    return norm(a) * norm(b)"
   ]
  },
  {
   "cell_type": "code",
   "execution_count": 29,
   "id": "8b8e339f-0058-402c-9361-a39cede7bd96",
   "metadata": {},
   "outputs": [],
   "source": [
    "# б)\n",
    "def triple_scalar(a, b):\n",
    "    return 3*a.dot(b)"
   ]
  },
  {
   "cell_type": "code",
   "execution_count": 34,
   "id": "d98f3a7a-e798-431a-bcd2-0c8aab87ab7a",
   "metadata": {},
   "outputs": [],
   "source": [
    "#проверка аксиом\n",
    "def check_axioms(func):\n",
    "    x = np.array([1, 2, 3])\n",
    "    y = np.array([4, 5, 6])\n",
    "    x1 = np.array([7, 8, 9])\n",
    "    x2 = np.array([10, 11, 12])\n",
    "    Lambda = 3\n",
    "    #1 (x ,y) = (y, x)\n",
    "    print(f'аксиома 1 {func(x, y) == func(y, x)}')\n",
    "    #2 (lambda*x, y) = lambda(x, y)\n",
    "    print(f'аксиома 2 {func(Lambda*x, y) == Lambda*func(x, y)}')\n",
    "    #3 (x1+x2, y) = (x1, y) + (x2)\n",
    "    print(f'аксиома 3 {func(x1+x2, y) == (func(x1, y) + func(x2, y))}')\n",
    "    #4 (x, x) >= 0, (x, x) = 0 -> x=0\n",
    "    nul = np.array([0, 0, 0])\n",
    "    print(f'аксиома 4 {func(x, x) >= 0, func(nul, nul) == 0}')"
   ]
  },
  {
   "cell_type": "code",
   "execution_count": 35,
   "id": "b853a4bf-71fd-4338-9c38-e1ef2f9c3a3c",
   "metadata": {},
   "outputs": [
    {
     "name": "stdout",
     "output_type": "stream",
     "text": [
      "CASE A:\n",
      "аксиома 1 True\n",
      "аксиома 2 False\n",
      "аксиома 3 False\n",
      "аксиома 4 (True, True)\n",
      "------------\n",
      "CASE B\n",
      "аксиома 1 True\n",
      "аксиома 2 True\n",
      "аксиома 3 True\n",
      "аксиома 4 (True, True)\n"
     ]
    }
   ],
   "source": [
    "#a)\n",
    "print(\"CASE A:\")\n",
    "check_axioms(vect_len_mul)\n",
    "print('------------')\n",
    "print('CASE B')\n",
    "check_axioms(triple_scalar)"
   ]
  },
  {
   "cell_type": "markdown",
   "id": "80223d50-8e3b-4343-a2f1-e0ff993ece4f",
   "metadata": {},
   "source": [
    "A) не выполняются 2 и 3 аксиомы значит за скалярное 2- 3- , произведение произведение длин принимать нельзя либо это , пространство не будет евклидовым .\n",
    "\n",
    "B) Со вторым случаем все аксиомы прошли проверку"
   ]
  },
  {
   "cell_type": "markdown",
   "id": "8e4a9f10-7488-4f3d-a0c3-464aa82e8ac3",
   "metadata": {},
   "source": [
    "__4.__ Какие из нижеперечисленных векторов образуют ортонормированный базис в линейном пространстве $\\mathbb{R}^{3}$:<br>\n",
    "а) $(1,0,0),(0,0,1);$ <br>\n",
    "б) $(1/\\sqrt{2},-1/\\sqrt{2},0),(1/\\sqrt{2},1/\\sqrt{2},0), (0,0,1);$<br>\n",
    "в) $(1/2, -1/2, 0), (0, 1/2, 1/2), (0,0,1);$<br>\n",
    "г) $(1,0,0),(0,1,0),(0,0,1)?$ "
   ]
  },
  {
   "cell_type": "markdown",
   "id": "18e82bb0-1a4c-42ea-b37f-12059bcda7cb",
   "metadata": {},
   "source": [
    "Условие: \n",
    "1. Скалярное произведение векторов попарно равно 0 \n",
    "2. Норма каждого вектора должна быть равна 1"
   ]
  },
  {
   "cell_type": "raw",
   "id": "dbd1f08a-8b4e-4679-9a3f-9ad3459d6cc0",
   "metadata": {},
   "source": [
    "a) отсутствует вектор (0, 1, 0)"
   ]
  },
  {
   "cell_type": "code",
   "execution_count": 38,
   "id": "cce27c38-6fc8-4f22-9b1a-6263ea0221cb",
   "metadata": {},
   "outputs": [
    {
     "data": {
      "text/plain": [
       "(0.0, 0.0, 0.0, 0.9999999999999999, 0.9999999999999999, 1.0)"
      ]
     },
     "execution_count": 38,
     "metadata": {},
     "output_type": "execute_result"
    }
   ],
   "source": [
    "#б)\n",
    "two_sqrt = 1/np.sqrt(2)\n",
    "b1 = np.array([two_sqrt, -two_sqrt, 0])\n",
    "b2 = np.array([two_sqrt, two_sqrt, 0])\n",
    "b3 = np.array([0, 0, 1])\n",
    "b1.dot(b2), b1.dot(b3), b2.dot(b3), norm(b1), norm(b2), norm(b3)"
   ]
  },
  {
   "cell_type": "markdown",
   "id": "5ee6d3c3-c15a-4fb0-bc9a-9cfbe3b5f5e1",
   "metadata": {},
   "source": [
    "б) Условия выполняются"
   ]
  },
  {
   "cell_type": "code",
   "execution_count": 39,
   "id": "64a8b542-f38b-4832-a185-b2091f724b7d",
   "metadata": {},
   "outputs": [
    {
     "data": {
      "text/plain": [
       "(-0.25, 0.0, 0.5, 0.7071067811865476, 0.7071067811865476, 1.0)"
      ]
     },
     "execution_count": 39,
     "metadata": {},
     "output_type": "execute_result"
    }
   ],
   "source": [
    "# в)\n",
    "b1 = np.array([0.5, -0.5, 0])\n",
    "b2 = np.array([0, 0.5, 0.5])\n",
    "b3 = np.array([0, 0, 1])\n",
    "b1.dot(b2), b1.dot(b3), b2.dot(b3), norm(b1), norm(b2), norm(b3)"
   ]
  },
  {
   "cell_type": "markdown",
   "id": "40a4af5b-d166-4db5-81bc-243d2c417750",
   "metadata": {},
   "source": [
    "в) Условия не выполняются"
   ]
  },
  {
   "cell_type": "markdown",
   "id": "adcda8a1-510d-4713-b704-f86f11b11605",
   "metadata": {},
   "source": [
    "г) Стандартный базис"
   ]
  },
  {
   "cell_type": "code",
   "execution_count": null,
   "id": "73ee765a-3aa4-4054-a2af-82ca3928f2b7",
   "metadata": {},
   "outputs": [],
   "source": []
  }
 ],
 "metadata": {
  "kernelspec": {
   "display_name": "Python 3 (ipykernel)",
   "language": "python",
   "name": "python3"
  },
  "language_info": {
   "codemirror_mode": {
    "name": "ipython",
    "version": 3
   },
   "file_extension": ".py",
   "mimetype": "text/x-python",
   "name": "python",
   "nbconvert_exporter": "python",
   "pygments_lexer": "ipython3",
   "version": "3.9.12"
  }
 },
 "nbformat": 4,
 "nbformat_minor": 5
}
